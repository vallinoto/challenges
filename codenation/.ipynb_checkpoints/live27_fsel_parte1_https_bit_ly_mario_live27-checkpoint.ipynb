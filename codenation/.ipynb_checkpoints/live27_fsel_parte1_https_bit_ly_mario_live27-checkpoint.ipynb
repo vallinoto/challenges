{
 "cells": [
  {
   "cell_type": "code",
   "execution_count": 0,
   "metadata": {
    "colab": {},
    "colab_type": "code",
    "id": "5_0fLL06N-wK"
   },
   "outputs": [],
   "source": [
    "feature selection\n",
    "- filtragem - filter\n",
    "- embedded - embarcado\n",
    "- wrapper - \n",
    "\n",
    "https://archive.ics.uci.edu/ml/datasets/Residential+Building+Data+Set\n",
    "https://scikit-learn.org/stable/modules/classes.html#module-sklearn.feature_selection"
   ]
  },
  {
   "cell_type": "code",
   "execution_count": 0,
   "metadata": {
    "colab": {
     "base_uri": "https://localhost:8080/",
     "height": 228
    },
    "colab_type": "code",
    "id": "c10n5-MrWhNE",
    "outputId": "c805f8f7-aefd-4985-88f3-a9b414f87ec6"
   },
   "outputs": [
    {
     "name": "stdout",
     "output_type": "stream",
     "text": [
      "--2020-05-20 23:10:28--  https://archive.ics.uci.edu/ml/machine-learning-databases/00437/Residential-Building-Data-Set.xlsx\n",
      "Resolving archive.ics.uci.edu (archive.ics.uci.edu)... 128.195.10.252\n",
      "Connecting to archive.ics.uci.edu (archive.ics.uci.edu)|128.195.10.252|:443... connected.\n",
      "HTTP request sent, awaiting response... 200 OK\n",
      "Length: 311097 (304K) [application/x-httpd-php]\n",
      "Saving to: ‘Residential-Building-Data-Set.xlsx’\n",
      "\n",
      "\r",
      "          Residenti   0%[                    ]       0  --.-KB/s               \r",
      "Residential-Buildin 100%[===================>] 303.81K  --.-KB/s    in 0.1s    \n",
      "\n",
      "2020-05-20 23:10:29 (1.99 MB/s) - ‘Residential-Building-Data-Set.xlsx’ saved [311097/311097]\n",
      "\n"
     ]
    }
   ],
   "source": [
    "!wget https://archive.ics.uci.edu/ml/machine-learning-databases/00437/Residential-Building-Data-Set.xlsx"
   ]
  },
  {
   "cell_type": "code",
   "execution_count": 0,
   "metadata": {
    "colab": {},
    "colab_type": "code",
    "id": "eeXSqfSgWh9z"
   },
   "outputs": [],
   "source": [
    "import pandas as pd\n",
    "import numpy as np"
   ]
  },
  {
   "cell_type": "code",
   "execution_count": 0,
   "metadata": {
    "colab": {},
    "colab_type": "code",
    "id": "BoWVh8UYWnby"
   },
   "outputs": [],
   "source": [
    "data = pd.read_excel(\"Residential-Building-Data-Set.xlsx\", header=1, sheet_name=0)"
   ]
  },
  {
   "cell_type": "code",
   "execution_count": 0,
   "metadata": {
    "colab": {
     "base_uri": "https://localhost:8080/",
     "height": 269
    },
    "colab_type": "code",
    "id": "uPbo2CSLWuEg",
    "outputId": "b023b2db-fcf8-4a22-9762-88a86b3e0f97"
   },
   "outputs": [
    {
     "data": {
      "text/html": [
       "<div>\n",
       "<style scoped>\n",
       "    .dataframe tbody tr th:only-of-type {\n",
       "        vertical-align: middle;\n",
       "    }\n",
       "\n",
       "    .dataframe tbody tr th {\n",
       "        vertical-align: top;\n",
       "    }\n",
       "\n",
       "    .dataframe thead th {\n",
       "        text-align: right;\n",
       "    }\n",
       "</style>\n",
       "<table border=\"1\" class=\"dataframe\">\n",
       "  <thead>\n",
       "    <tr style=\"text-align: right;\">\n",
       "      <th></th>\n",
       "      <th>START YEAR</th>\n",
       "      <th>START QUARTER</th>\n",
       "      <th>COMPLETION YEAR</th>\n",
       "      <th>COMPLETION QUARTER</th>\n",
       "      <th>V-1</th>\n",
       "      <th>V-2</th>\n",
       "      <th>V-3</th>\n",
       "      <th>V-4</th>\n",
       "      <th>V-5</th>\n",
       "      <th>V-6</th>\n",
       "      <th>V-7</th>\n",
       "      <th>V-8</th>\n",
       "      <th>V-11</th>\n",
       "      <th>V-12</th>\n",
       "      <th>V-13</th>\n",
       "      <th>V-14</th>\n",
       "      <th>V-15</th>\n",
       "      <th>V-16</th>\n",
       "      <th>V-17</th>\n",
       "      <th>V-18</th>\n",
       "      <th>V-19</th>\n",
       "      <th>V-20</th>\n",
       "      <th>V-21</th>\n",
       "      <th>V-22</th>\n",
       "      <th>V-23</th>\n",
       "      <th>V-24</th>\n",
       "      <th>V-25</th>\n",
       "      <th>V-26</th>\n",
       "      <th>V-27</th>\n",
       "      <th>V-28</th>\n",
       "      <th>V-29</th>\n",
       "      <th>V-11.1</th>\n",
       "      <th>V-12.1</th>\n",
       "      <th>V-13.1</th>\n",
       "      <th>V-14.1</th>\n",
       "      <th>V-15.1</th>\n",
       "      <th>V-16.1</th>\n",
       "      <th>V-17.1</th>\n",
       "      <th>V-18.1</th>\n",
       "      <th>V-19.1</th>\n",
       "      <th>...</th>\n",
       "      <th>V-11.3</th>\n",
       "      <th>V-12.3</th>\n",
       "      <th>V-13.3</th>\n",
       "      <th>V-14.3</th>\n",
       "      <th>V-15.3</th>\n",
       "      <th>V-16.3</th>\n",
       "      <th>V-17.3</th>\n",
       "      <th>V-18.3</th>\n",
       "      <th>V-19.3</th>\n",
       "      <th>V-20.3</th>\n",
       "      <th>V-21.3</th>\n",
       "      <th>V-22.3</th>\n",
       "      <th>V-23.3</th>\n",
       "      <th>V-24.3</th>\n",
       "      <th>V-25.3</th>\n",
       "      <th>V-26.3</th>\n",
       "      <th>V-27.3</th>\n",
       "      <th>V-28.3</th>\n",
       "      <th>V-29.3</th>\n",
       "      <th>V-11.4</th>\n",
       "      <th>V-12.4</th>\n",
       "      <th>V-13.4</th>\n",
       "      <th>V-14.4</th>\n",
       "      <th>V-15.4</th>\n",
       "      <th>V-16.4</th>\n",
       "      <th>V-17.4</th>\n",
       "      <th>V-18.4</th>\n",
       "      <th>V-19.4</th>\n",
       "      <th>V-20.4</th>\n",
       "      <th>V-21.4</th>\n",
       "      <th>V-22.4</th>\n",
       "      <th>V-23.4</th>\n",
       "      <th>V-24.4</th>\n",
       "      <th>V-25.4</th>\n",
       "      <th>V-26.4</th>\n",
       "      <th>V-27.4</th>\n",
       "      <th>V-28.4</th>\n",
       "      <th>V-29.4</th>\n",
       "      <th>V-9</th>\n",
       "      <th>V-10</th>\n",
       "    </tr>\n",
       "  </thead>\n",
       "  <tbody>\n",
       "    <tr>\n",
       "      <th>0</th>\n",
       "      <td>81</td>\n",
       "      <td>1</td>\n",
       "      <td>85</td>\n",
       "      <td>1</td>\n",
       "      <td>1</td>\n",
       "      <td>3150.0</td>\n",
       "      <td>920.0</td>\n",
       "      <td>598.5</td>\n",
       "      <td>190</td>\n",
       "      <td>1010.84</td>\n",
       "      <td>16</td>\n",
       "      <td>1200</td>\n",
       "      <td>6713.00</td>\n",
       "      <td>56.2</td>\n",
       "      <td>61.52</td>\n",
       "      <td>6.11</td>\n",
       "      <td>320957.30</td>\n",
       "      <td>3485.8</td>\n",
       "      <td>64.5</td>\n",
       "      <td>239.50</td>\n",
       "      <td>12456.6</td>\n",
       "      <td>15</td>\n",
       "      <td>797.3</td>\n",
       "      <td>809.8</td>\n",
       "      <td>1755.00</td>\n",
       "      <td>8003.0</td>\n",
       "      <td>67.81</td>\n",
       "      <td>63.25</td>\n",
       "      <td>3758.77</td>\n",
       "      <td>42587.00</td>\n",
       "      <td>628132.9</td>\n",
       "      <td>4986.0</td>\n",
       "      <td>55.5</td>\n",
       "      <td>60.78</td>\n",
       "      <td>3.94</td>\n",
       "      <td>297210.1</td>\n",
       "      <td>3663.5</td>\n",
       "      <td>61.50</td>\n",
       "      <td>179.63</td>\n",
       "      <td>9342.45</td>\n",
       "      <td>...</td>\n",
       "      <td>5728.0</td>\n",
       "      <td>52.4</td>\n",
       "      <td>57.65</td>\n",
       "      <td>5.40</td>\n",
       "      <td>262789.00</td>\n",
       "      <td>2931.4</td>\n",
       "      <td>54.20</td>\n",
       "      <td>59.88</td>\n",
       "      <td>3114.15</td>\n",
       "      <td>15</td>\n",
       "      <td>746.800000</td>\n",
       "      <td>815.50</td>\n",
       "      <td>1755.00</td>\n",
       "      <td>8013.0</td>\n",
       "      <td>62.78</td>\n",
       "      <td>56.45</td>\n",
       "      <td>3387.72</td>\n",
       "      <td>10646.75</td>\n",
       "      <td>606524.2</td>\n",
       "      <td>7196.0</td>\n",
       "      <td>51.3</td>\n",
       "      <td>56.13</td>\n",
       "      <td>5.97</td>\n",
       "      <td>249110.70</td>\n",
       "      <td>2562.3</td>\n",
       "      <td>52.80</td>\n",
       "      <td>217.00</td>\n",
       "      <td>10445.6</td>\n",
       "      <td>15</td>\n",
       "      <td>733.800000</td>\n",
       "      <td>815.50</td>\n",
       "      <td>1755.00</td>\n",
       "      <td>8002.0</td>\n",
       "      <td>60.74</td>\n",
       "      <td>54.26</td>\n",
       "      <td>2978.26</td>\n",
       "      <td>41407.0</td>\n",
       "      <td>601988.1</td>\n",
       "      <td>2200</td>\n",
       "      <td>410</td>\n",
       "    </tr>\n",
       "    <tr>\n",
       "      <th>1</th>\n",
       "      <td>84</td>\n",
       "      <td>1</td>\n",
       "      <td>89</td>\n",
       "      <td>4</td>\n",
       "      <td>1</td>\n",
       "      <td>7600.0</td>\n",
       "      <td>1140.0</td>\n",
       "      <td>3040.0</td>\n",
       "      <td>400</td>\n",
       "      <td>963.81</td>\n",
       "      <td>23</td>\n",
       "      <td>2900</td>\n",
       "      <td>3152.00</td>\n",
       "      <td>106.0</td>\n",
       "      <td>103.03</td>\n",
       "      <td>3.15</td>\n",
       "      <td>685697.50</td>\n",
       "      <td>3526.1</td>\n",
       "      <td>105.5</td>\n",
       "      <td>208.80</td>\n",
       "      <td>17584.3</td>\n",
       "      <td>15</td>\n",
       "      <td>1408.4</td>\n",
       "      <td>1473.5</td>\n",
       "      <td>8842.18</td>\n",
       "      <td>8864.0</td>\n",
       "      <td>105.52</td>\n",
       "      <td>105.32</td>\n",
       "      <td>12113.01</td>\n",
       "      <td>45966.00</td>\n",
       "      <td>1188995.8</td>\n",
       "      <td>2700.0</td>\n",
       "      <td>103.0</td>\n",
       "      <td>101.84</td>\n",
       "      <td>2.65</td>\n",
       "      <td>625829.2</td>\n",
       "      <td>4386.9</td>\n",
       "      <td>100.40</td>\n",
       "      <td>156.60</td>\n",
       "      <td>13188.23</td>\n",
       "      <td>...</td>\n",
       "      <td>3157.0</td>\n",
       "      <td>92.8</td>\n",
       "      <td>96.49</td>\n",
       "      <td>3.05</td>\n",
       "      <td>552124.40</td>\n",
       "      <td>3896.7</td>\n",
       "      <td>96.90</td>\n",
       "      <td>52.20</td>\n",
       "      <td>4396.08</td>\n",
       "      <td>15</td>\n",
       "      <td>1294.200000</td>\n",
       "      <td>1288.00</td>\n",
       "      <td>8555.54</td>\n",
       "      <td>8585.0</td>\n",
       "      <td>95.35</td>\n",
       "      <td>94.34</td>\n",
       "      <td>12063.50</td>\n",
       "      <td>11491.50</td>\n",
       "      <td>954628.6</td>\n",
       "      <td>3678.0</td>\n",
       "      <td>86.2</td>\n",
       "      <td>83.21</td>\n",
       "      <td>3.25</td>\n",
       "      <td>526596.40</td>\n",
       "      <td>2790.6</td>\n",
       "      <td>94.10</td>\n",
       "      <td>334.80</td>\n",
       "      <td>14488.6</td>\n",
       "      <td>15</td>\n",
       "      <td>1143.800000</td>\n",
       "      <td>1316.30</td>\n",
       "      <td>8364.78</td>\n",
       "      <td>8393.0</td>\n",
       "      <td>90.95</td>\n",
       "      <td>89.79</td>\n",
       "      <td>11379.37</td>\n",
       "      <td>44835.0</td>\n",
       "      <td>929027.1</td>\n",
       "      <td>5000</td>\n",
       "      <td>1000</td>\n",
       "    </tr>\n",
       "    <tr>\n",
       "      <th>2</th>\n",
       "      <td>78</td>\n",
       "      <td>1</td>\n",
       "      <td>81</td>\n",
       "      <td>4</td>\n",
       "      <td>1</td>\n",
       "      <td>4800.0</td>\n",
       "      <td>840.0</td>\n",
       "      <td>480.0</td>\n",
       "      <td>100</td>\n",
       "      <td>689.84</td>\n",
       "      <td>15</td>\n",
       "      <td>630</td>\n",
       "      <td>1627.00</td>\n",
       "      <td>41.0</td>\n",
       "      <td>41.25</td>\n",
       "      <td>1.74</td>\n",
       "      <td>160401.50</td>\n",
       "      <td>1217.5</td>\n",
       "      <td>34.4</td>\n",
       "      <td>285.80</td>\n",
       "      <td>6489.1</td>\n",
       "      <td>15</td>\n",
       "      <td>614.0</td>\n",
       "      <td>608.2</td>\n",
       "      <td>1755.00</td>\n",
       "      <td>7773.0</td>\n",
       "      <td>45.91</td>\n",
       "      <td>38.34</td>\n",
       "      <td>1537.96</td>\n",
       "      <td>39066.00</td>\n",
       "      <td>524764.8</td>\n",
       "      <td>1580.0</td>\n",
       "      <td>40.3</td>\n",
       "      <td>40.84</td>\n",
       "      <td>1.15</td>\n",
       "      <td>150266.8</td>\n",
       "      <td>1149.5</td>\n",
       "      <td>34.10</td>\n",
       "      <td>214.35</td>\n",
       "      <td>4866.83</td>\n",
       "      <td>...</td>\n",
       "      <td>2374.0</td>\n",
       "      <td>38.0</td>\n",
       "      <td>39.43</td>\n",
       "      <td>0.92</td>\n",
       "      <td>134548.40</td>\n",
       "      <td>1191.1</td>\n",
       "      <td>33.70</td>\n",
       "      <td>71.45</td>\n",
       "      <td>1622.28</td>\n",
       "      <td>15</td>\n",
       "      <td>574.600000</td>\n",
       "      <td>680.50</td>\n",
       "      <td>1755.00</td>\n",
       "      <td>5565.0</td>\n",
       "      <td>41.03</td>\n",
       "      <td>33.37</td>\n",
       "      <td>1601.79</td>\n",
       "      <td>9766.50</td>\n",
       "      <td>403875.0</td>\n",
       "      <td>2693.0</td>\n",
       "      <td>36.2</td>\n",
       "      <td>37.64</td>\n",
       "      <td>1.55</td>\n",
       "      <td>134312.50</td>\n",
       "      <td>1529.0</td>\n",
       "      <td>31.43</td>\n",
       "      <td>175.70</td>\n",
       "      <td>3994.7</td>\n",
       "      <td>15</td>\n",
       "      <td>589.500000</td>\n",
       "      <td>765.80</td>\n",
       "      <td>1755.00</td>\n",
       "      <td>4930.0</td>\n",
       "      <td>38.70</td>\n",
       "      <td>32.04</td>\n",
       "      <td>1653.06</td>\n",
       "      <td>37933.0</td>\n",
       "      <td>377828.6</td>\n",
       "      <td>1200</td>\n",
       "      <td>170</td>\n",
       "    </tr>\n",
       "    <tr>\n",
       "      <th>3</th>\n",
       "      <td>72</td>\n",
       "      <td>2</td>\n",
       "      <td>73</td>\n",
       "      <td>2</td>\n",
       "      <td>1</td>\n",
       "      <td>685.0</td>\n",
       "      <td>202.0</td>\n",
       "      <td>13.7</td>\n",
       "      <td>20</td>\n",
       "      <td>459.54</td>\n",
       "      <td>4</td>\n",
       "      <td>140</td>\n",
       "      <td>2580.93</td>\n",
       "      <td>12.1</td>\n",
       "      <td>10.03</td>\n",
       "      <td>1.24</td>\n",
       "      <td>38193.64</td>\n",
       "      <td>287.2</td>\n",
       "      <td>13.6</td>\n",
       "      <td>17.03</td>\n",
       "      <td>154.4</td>\n",
       "      <td>12</td>\n",
       "      <td>183.6</td>\n",
       "      <td>211.1</td>\n",
       "      <td>1612.95</td>\n",
       "      <td>1649.0</td>\n",
       "      <td>11.62</td>\n",
       "      <td>10.06</td>\n",
       "      <td>392.96</td>\n",
       "      <td>8435.75</td>\n",
       "      <td>141542.6</td>\n",
       "      <td>2952.0</td>\n",
       "      <td>11.6</td>\n",
       "      <td>8.50</td>\n",
       "      <td>1.99</td>\n",
       "      <td>35859.4</td>\n",
       "      <td>322.5</td>\n",
       "      <td>12.67</td>\n",
       "      <td>56.60</td>\n",
       "      <td>610.40</td>\n",
       "      <td>...</td>\n",
       "      <td>2312.0</td>\n",
       "      <td>10.6</td>\n",
       "      <td>5.44</td>\n",
       "      <td>2.58</td>\n",
       "      <td>30012.46</td>\n",
       "      <td>345.3</td>\n",
       "      <td>10.79</td>\n",
       "      <td>28.30</td>\n",
       "      <td>305.20</td>\n",
       "      <td>12</td>\n",
       "      <td>180.371507</td>\n",
       "      <td>158.45</td>\n",
       "      <td>1439.00</td>\n",
       "      <td>1450.0</td>\n",
       "      <td>9.91</td>\n",
       "      <td>8.85</td>\n",
       "      <td>590.64</td>\n",
       "      <td>16388.00</td>\n",
       "      <td>121857.2</td>\n",
       "      <td>1381.0</td>\n",
       "      <td>10.0</td>\n",
       "      <td>3.91</td>\n",
       "      <td>3.00</td>\n",
       "      <td>27231.21</td>\n",
       "      <td>316.5</td>\n",
       "      <td>9.85</td>\n",
       "      <td>14.15</td>\n",
       "      <td>152.6</td>\n",
       "      <td>12</td>\n",
       "      <td>197.679557</td>\n",
       "      <td>152.25</td>\n",
       "      <td>1442.31</td>\n",
       "      <td>1456.0</td>\n",
       "      <td>9.73</td>\n",
       "      <td>8.34</td>\n",
       "      <td>686.16</td>\n",
       "      <td>8194.0</td>\n",
       "      <td>122031.7</td>\n",
       "      <td>165</td>\n",
       "      <td>30</td>\n",
       "    </tr>\n",
       "    <tr>\n",
       "      <th>4</th>\n",
       "      <td>87</td>\n",
       "      <td>1</td>\n",
       "      <td>90</td>\n",
       "      <td>2</td>\n",
       "      <td>1</td>\n",
       "      <td>3000.0</td>\n",
       "      <td>800.0</td>\n",
       "      <td>1230.0</td>\n",
       "      <td>410</td>\n",
       "      <td>631.91</td>\n",
       "      <td>13</td>\n",
       "      <td>5000</td>\n",
       "      <td>6790.00</td>\n",
       "      <td>203.8</td>\n",
       "      <td>162.84</td>\n",
       "      <td>6.46</td>\n",
       "      <td>1640293.00</td>\n",
       "      <td>10855.3</td>\n",
       "      <td>229.3</td>\n",
       "      <td>393.30</td>\n",
       "      <td>69444.8</td>\n",
       "      <td>11</td>\n",
       "      <td>2738.8</td>\n",
       "      <td>3148.0</td>\n",
       "      <td>9248.40</td>\n",
       "      <td>9380.0</td>\n",
       "      <td>158.63</td>\n",
       "      <td>169.50</td>\n",
       "      <td>10082.00</td>\n",
       "      <td>49572.00</td>\n",
       "      <td>2318397.0</td>\n",
       "      <td>6370.0</td>\n",
       "      <td>190.3</td>\n",
       "      <td>154.36</td>\n",
       "      <td>5.33</td>\n",
       "      <td>1523166.6</td>\n",
       "      <td>12930.0</td>\n",
       "      <td>210.70</td>\n",
       "      <td>294.98</td>\n",
       "      <td>52083.60</td>\n",
       "      <td>...</td>\n",
       "      <td>7045.0</td>\n",
       "      <td>160.0</td>\n",
       "      <td>141.34</td>\n",
       "      <td>4.72</td>\n",
       "      <td>1341072.80</td>\n",
       "      <td>8245.0</td>\n",
       "      <td>173.80</td>\n",
       "      <td>98.33</td>\n",
       "      <td>17361.20</td>\n",
       "      <td>11</td>\n",
       "      <td>2451.200000</td>\n",
       "      <td>2526.40</td>\n",
       "      <td>9254.28</td>\n",
       "      <td>9306.0</td>\n",
       "      <td>136.56</td>\n",
       "      <td>138.80</td>\n",
       "      <td>9291.00</td>\n",
       "      <td>12393.00</td>\n",
       "      <td>1732937.5</td>\n",
       "      <td>5606.0</td>\n",
       "      <td>149.1</td>\n",
       "      <td>134.80</td>\n",
       "      <td>4.09</td>\n",
       "      <td>1284199.40</td>\n",
       "      <td>6622.5</td>\n",
       "      <td>147.60</td>\n",
       "      <td>432.40</td>\n",
       "      <td>73143.5</td>\n",
       "      <td>14</td>\n",
       "      <td>2220.600000</td>\n",
       "      <td>2244.10</td>\n",
       "      <td>9231.76</td>\n",
       "      <td>9286.0</td>\n",
       "      <td>136.60</td>\n",
       "      <td>140.20</td>\n",
       "      <td>9821.00</td>\n",
       "      <td>48260.0</td>\n",
       "      <td>1734973.5</td>\n",
       "      <td>5500</td>\n",
       "      <td>700</td>\n",
       "    </tr>\n",
       "  </tbody>\n",
       "</table>\n",
       "<p>5 rows × 109 columns</p>\n",
       "</div>"
      ],
      "text/plain": [
       "   START YEAR  START QUARTER  COMPLETION YEAR  ...     V-29.4   V-9  V-10\n",
       "0          81              1               85  ...   601988.1  2200   410\n",
       "1          84              1               89  ...   929027.1  5000  1000\n",
       "2          78              1               81  ...   377828.6  1200   170\n",
       "3          72              2               73  ...   122031.7   165    30\n",
       "4          87              1               90  ...  1734973.5  5500   700\n",
       "\n",
       "[5 rows x 109 columns]"
      ]
     },
     "execution_count": 4,
     "metadata": {
      "tags": []
     },
     "output_type": "execute_result"
    }
   ],
   "source": [
    "data.head()"
   ]
  },
  {
   "cell_type": "code",
   "execution_count": 0,
   "metadata": {
    "colab": {
     "base_uri": "https://localhost:8080/",
     "height": 35
    },
    "colab_type": "code",
    "id": "BQBcsHuHWuuS",
    "outputId": "c4302070-4685-4acc-dcee-354043488ae9"
   },
   "outputs": [
    {
     "data": {
      "text/plain": [
       "(372, 109)"
      ]
     },
     "execution_count": 5,
     "metadata": {
      "tags": []
     },
     "output_type": "execute_result"
    }
   ],
   "source": [
    "data.shape"
   ]
  },
  {
   "cell_type": "code",
   "execution_count": 0,
   "metadata": {
    "colab": {},
    "colab_type": "code",
    "id": "4eJHO9zXW8_8"
   },
   "outputs": [],
   "source": [
    "cols = pd.read_excel(\"Residential-Building-Data-Set.xlsx\", sheet_name=1)"
   ]
  },
  {
   "cell_type": "code",
   "execution_count": 0,
   "metadata": {
    "colab": {
     "base_uri": "https://localhost:8080/",
     "height": 511
    },
    "colab_type": "code",
    "id": "_qLcSdRAXPtA",
    "outputId": "4de5f6c4-559a-4e1d-e920-52317ae8118d"
   },
   "outputs": [
    {
     "data": {
      "text/html": [
       "<div>\n",
       "<style scoped>\n",
       "    .dataframe tbody tr th:only-of-type {\n",
       "        vertical-align: middle;\n",
       "    }\n",
       "\n",
       "    .dataframe tbody tr th {\n",
       "        vertical-align: top;\n",
       "    }\n",
       "\n",
       "    .dataframe thead th {\n",
       "        text-align: right;\n",
       "    }\n",
       "</style>\n",
       "<table border=\"1\" class=\"dataframe\">\n",
       "  <thead>\n",
       "    <tr style=\"text-align: right;\">\n",
       "      <th></th>\n",
       "      <th>Variable Group</th>\n",
       "      <th>Variable ID</th>\n",
       "      <th>Descriptions</th>\n",
       "      <th>Unit</th>\n",
       "      <th>Time Lag Number p</th>\n",
       "    </tr>\n",
       "  </thead>\n",
       "  <tbody>\n",
       "    <tr>\n",
       "      <th>0</th>\n",
       "      <td>PROJECT PHYSICAL AND FINANCIAL VARIABLES</td>\n",
       "      <td>V-1</td>\n",
       "      <td>Project locality defined in terms of zip codes</td>\n",
       "      <td>NaN</td>\n",
       "      <td>NaN</td>\n",
       "    </tr>\n",
       "    <tr>\n",
       "      <th>1</th>\n",
       "      <td>NaN</td>\n",
       "      <td>V-2</td>\n",
       "      <td>Total floor area of the building</td>\n",
       "      <td>m2</td>\n",
       "      <td>NaN</td>\n",
       "    </tr>\n",
       "    <tr>\n",
       "      <th>2</th>\n",
       "      <td>NaN</td>\n",
       "      <td>V-3</td>\n",
       "      <td>Lot area</td>\n",
       "      <td>m2</td>\n",
       "      <td>NaN</td>\n",
       "    </tr>\n",
       "    <tr>\n",
       "      <th>3</th>\n",
       "      <td>NaN</td>\n",
       "      <td>V-4</td>\n",
       "      <td>Total preliminary estimated construction cost ...</td>\n",
       "      <td>10000000 IRRm</td>\n",
       "      <td>NaN</td>\n",
       "    </tr>\n",
       "    <tr>\n",
       "      <th>4</th>\n",
       "      <td>NaN</td>\n",
       "      <td>V-5</td>\n",
       "      <td>Preliminary estimated construction cost based ...</td>\n",
       "      <td>10000 IRRm</td>\n",
       "      <td>NaN</td>\n",
       "    </tr>\n",
       "    <tr>\n",
       "      <th>5</th>\n",
       "      <td>NaN</td>\n",
       "      <td>V-6</td>\n",
       "      <td>Equivalent preliminary estimated construction ...</td>\n",
       "      <td>10000 IRRm</td>\n",
       "      <td>NaN</td>\n",
       "    </tr>\n",
       "    <tr>\n",
       "      <th>6</th>\n",
       "      <td>NaN</td>\n",
       "      <td>V-7</td>\n",
       "      <td>Duration of construction</td>\n",
       "      <td>As a number of time resolution e</td>\n",
       "      <td>NaN</td>\n",
       "    </tr>\n",
       "    <tr>\n",
       "      <th>7</th>\n",
       "      <td>NaN</td>\n",
       "      <td>V-8</td>\n",
       "      <td>Price of the unit at the beginning of the proj...</td>\n",
       "      <td>10000 IRRm</td>\n",
       "      <td>NaN</td>\n",
       "    </tr>\n",
       "    <tr>\n",
       "      <th>8</th>\n",
       "      <td>NaN</td>\n",
       "      <td>V-9</td>\n",
       "      <td>Actual sales prices (output)</td>\n",
       "      <td>10000 IRRm</td>\n",
       "      <td>NaN</td>\n",
       "    </tr>\n",
       "    <tr>\n",
       "      <th>9</th>\n",
       "      <td>NaN</td>\n",
       "      <td>V-10</td>\n",
       "      <td>Actual construction costs (output)</td>\n",
       "      <td>10000 IRRm</td>\n",
       "      <td>NaN</td>\n",
       "    </tr>\n",
       "  </tbody>\n",
       "</table>\n",
       "</div>"
      ],
      "text/plain": [
       "                             Variable Group  ... Time Lag Number p\n",
       "0  PROJECT PHYSICAL AND FINANCIAL VARIABLES  ...               NaN\n",
       "1                                       NaN  ...               NaN\n",
       "2                                       NaN  ...               NaN\n",
       "3                                       NaN  ...               NaN\n",
       "4                                       NaN  ...               NaN\n",
       "5                                       NaN  ...               NaN\n",
       "6                                       NaN  ...               NaN\n",
       "7                                       NaN  ...               NaN\n",
       "8                                       NaN  ...               NaN\n",
       "9                                       NaN  ...               NaN\n",
       "\n",
       "[10 rows x 5 columns]"
      ]
     },
     "execution_count": 8,
     "metadata": {
      "tags": []
     },
     "output_type": "execute_result"
    }
   ],
   "source": [
    "cols.head(10)"
   ]
  },
  {
   "cell_type": "code",
   "execution_count": 0,
   "metadata": {
    "colab": {},
    "colab_type": "code",
    "id": "uznuuFsFXUID"
   },
   "outputs": [],
   "source": [
    "y = data['V-9']\n",
    "X = data.drop(['V-9', 'V-10'], axis=1)"
   ]
  },
  {
   "cell_type": "code",
   "execution_count": 0,
   "metadata": {
    "colab": {
     "base_uri": "https://localhost:8080/",
     "height": 35
    },
    "colab_type": "code",
    "id": "UXp7dB5lX9Zk",
    "outputId": "0b7fe439-69e8-4620-a15b-d682f79e9060"
   },
   "outputs": [
    {
     "data": {
      "text/plain": [
       "((186, 107), (186, 107), (186,), (186,))"
      ]
     },
     "execution_count": 12,
     "metadata": {
      "tags": []
     },
     "output_type": "execute_result"
    }
   ],
   "source": [
    "from sklearn.model_selection import train_test_split\n",
    "Xtrain, Xval, ytrain, yval = train_test_split(X, y, train_size=0.5, random_state=0)\n",
    "Xtrain.shape, Xval.shape, ytrain.shape, yval.shape "
   ]
  },
  {
   "cell_type": "code",
   "execution_count": 0,
   "metadata": {
    "colab": {
     "base_uri": "https://localhost:8080/",
     "height": 936
    },
    "colab_type": "code",
    "id": "tRXFjoV3YD9L",
    "outputId": "ec55dfd7-918b-43ee-a466-c99fe0469921"
   },
   "outputs": [
    {
     "name": "stdout",
     "output_type": "stream",
     "text": [
      "k = 2 - MAE = 121.7203680235535\n",
      "k = 4 - MAE = 108.06066308243727\n",
      "k = 6 - MAE = 107.48879928315411\n",
      "k = 8 - MAE = 107.65448028673835\n",
      "k = 10 - MAE = 107.13745519713261\n",
      "k = 12 - MAE = 106.9988799283154\n",
      "k = 14 - MAE = 106.52589605734767\n",
      "k = 16 - MAE = 106.69937275985664\n",
      "k = 18 - MAE = 107.39807347670249\n",
      "k = 20 - MAE = 107.26173835125446\n",
      "k = 22 - MAE = 106.40784050179212\n",
      "k = 24 - MAE = 105.7695340501792\n",
      "k = 26 - MAE = 106.25439068100358\n",
      "k = 28 - MAE = 105.12607526881719\n",
      "k = 30 - MAE = 104.52629928315412\n",
      "k = 32 - MAE = 107.59139784946237\n",
      "k = 34 - MAE = 108.55107526881719\n",
      "k = 36 - MAE = 107.91451612903225\n",
      "k = 38 - MAE = 107.00618279569893\n",
      "k = 40 - MAE = 106.852688172043\n",
      "k = 42 - MAE = 107.5733870967742\n",
      "k = 44 - MAE = 107.53118279569894\n",
      "k = 46 - MAE = 107.5989247311828\n",
      "k = 48 - MAE = 106.8991935483871\n",
      "k = 50 - MAE = 107.45591397849462\n",
      "k = 52 - MAE = 107.86155913978494\n",
      "k = 54 - MAE = 106.38844086021506\n",
      "k = 56 - MAE = 107.36075268817206\n",
      "k = 58 - MAE = 108.77123655913977\n",
      "k = 60 - MAE = 109.44247311827955\n",
      "k = 62 - MAE = 107.9037634408602\n",
      "k = 64 - MAE = 108.33709677419355\n",
      "k = 66 - MAE = 108.63091397849462\n",
      "k = 68 - MAE = 108.2564516129032\n",
      "k = 70 - MAE = 112.91720430107526\n",
      "k = 72 - MAE = 108.53091397849462\n",
      "k = 74 - MAE = 111.50913978494621\n",
      "k = 76 - MAE = 112.72661290322581\n",
      "k = 78 - MAE = 110.80322580645161\n",
      "k = 80 - MAE = 110.72096774193548\n",
      "k = 82 - MAE = 114.072311827957\n",
      "k = 84 - MAE = 113.96478494623655\n",
      "k = 86 - MAE = 112.93467741935483\n",
      "k = 88 - MAE = 114.98467741935485\n",
      "k = 90 - MAE = 117.05215053763439\n",
      "k = 92 - MAE = 117.67983870967743\n",
      "k = 94 - MAE = 118.70806451612901\n",
      "k = 96 - MAE = 117.86129032258063\n",
      "k = 98 - MAE = 118.32822580645161\n",
      "k = 100 - MAE = 118.89462365591399\n",
      "k = 102 - MAE = 118.3225806451613\n",
      "k = 104 - MAE = 116.71317204301074\n",
      "k = 106 - MAE = 116.91182795698924\n"
     ]
    }
   ],
   "source": [
    "from sklearn.feature_selection import SelectKBest, SelectPercentile, f_regression, f_classif\n",
    "from sklearn.metrics import mean_absolute_error\n",
    "from sklearn.ensemble import RandomForestRegressor\n",
    "\n",
    "k_vs_score = []\n",
    "\n",
    "for k in range(2,108,2):\n",
    "  selector = SelectKBest(score_func=f_regression, k=k)\n",
    "\n",
    "  Xtrain_externo_train_interno\n",
    "  Xtrain_externo_val_intero \n",
    "\n",
    "  Xtrain2 = selector.fit_transform(Xtrain_externo_train_interno, ytrain)\n",
    "  Xval2 = selector.transform(Xtrain_externo_val_intero)\n",
    "\n",
    "  mdl = RandomForestRegressor(n_estimators=100, n_jobs=-1, random_state=0)\n",
    "  mdl.fit(Xtrain2, ytrain)\n",
    "\n",
    "  p = mdl.predict(Xval2)\n",
    "\n",
    "  score = mean_absolute_error(yval, p)\n",
    "  print(\"k = {} - MAE = {}\".format(k, score))\n",
    "\n",
    "  k_vs_score.append(score)\n"
   ]
  },
  {
   "cell_type": "code",
   "execution_count": 0,
   "metadata": {
    "colab": {
     "base_uri": "https://localhost:8080/",
     "height": 449
    },
    "colab_type": "code",
    "id": "zdHbw-BPZ9bn",
    "outputId": "fae803aa-c1bb-46dd-c476-70bce7bea386"
   },
   "outputs": [
    {
     "data": {
      "text/plain": [
       "<matplotlib.axes._subplots.AxesSubplot at 0x7fcd865186a0>"
      ]
     },
     "execution_count": 15,
     "metadata": {
      "tags": []
     },
     "output_type": "execute_result"
    },
    {
     "data": {
      "image/png": "[encoded data removed]",
      "text/plain": [
       "<Figure size 720x504 with 1 Axes>"
      ]
     },
     "metadata": {
      "needs_background": "light",
      "tags": []
     },
     "output_type": "display_data"
    }
   ],
   "source": [
    "pd.Series(k_vs_score, index=range(2,108,2)).plot(figsize=(10,7))"
   ]
  },
  {
   "cell_type": "code",
   "execution_count": 0,
   "metadata": {
    "colab": {
     "base_uri": "https://localhost:8080/",
     "height": 35
    },
    "colab_type": "code",
    "id": "rBdwqMhbb3eM",
    "outputId": "014039bd-0481-493e-8fac-41569dda6974"
   },
   "outputs": [
    {
     "data": {
      "text/plain": [
       "SelectKBest(k=30, score_func=<function f_regression at 0x7fcd99afa378>)"
      ]
     },
     "execution_count": 17,
     "metadata": {
      "tags": []
     },
     "output_type": "execute_result"
    }
   ],
   "source": [
    "selector = SelectKBest(score_func=f_regression, k=30)\n",
    "selector.fit(Xtrain, ytrain)"
   ]
  },
  {
   "cell_type": "code",
   "execution_count": 0,
   "metadata": {
    "colab": {
     "base_uri": "https://localhost:8080/",
     "height": 121
    },
    "colab_type": "code",
    "id": "p2yJQTQqcgbR",
    "outputId": "8f6ca7cd-8e33-4dfb-9055-1824fe4d25d5"
   },
   "outputs": [
    {
     "data": {
      "text/plain": [
       "Index(['START YEAR', 'COMPLETION YEAR', 'V-5', 'V-8', 'V-15', 'V-21', 'V-25',\n",
       "       'V-26', 'V-15.1', 'V-21.1', 'V-25.1', 'V-26.1', 'V-13.2', 'V-21.2',\n",
       "       'V-25.2', 'V-26.2', 'V-29.2', 'V-12.3', 'V-13.3', 'V-21.3', 'V-22.3',\n",
       "       'V-25.3', 'V-26.3', 'V-29.3', 'V-12.4', 'V-13.4', 'V-21.4', 'V-25.4',\n",
       "       'V-26.4', 'V-29.4'],\n",
       "      dtype='object')"
      ]
     },
     "execution_count": 23,
     "metadata": {
      "tags": []
     },
     "output_type": "execute_result"
    }
   ],
   "source": [
    "mask = selector.get_support()\n",
    "Xval.columns[mask]"
   ]
  },
  {
   "cell_type": "code",
   "execution_count": 0,
   "metadata": {
    "colab": {
     "base_uri": "https://localhost:8080/",
     "height": 283
    },
    "colab_type": "code",
    "id": "0D8w46ZOclhj",
    "outputId": "65121721-a599-4de9-e5b9-5af1889c8000"
   },
   "outputs": [
    {
     "data": {
      "text/plain": [
       "<matplotlib.axes._subplots.AxesSubplot at 0x7fcd88c9a9e8>"
      ]
     },
     "execution_count": 27,
     "metadata": {
      "tags": []
     },
     "output_type": "execute_result"
    },
    {
     "data": {
      "image/png": "[encoded data removed]",
      "text/plain": [
       "<Figure size 432x288 with 1 Axes>"
      ]
     },
     "metadata": {
      "needs_background": "light",
      "tags": []
     },
     "output_type": "display_data"
    }
   ],
   "source": [
    "pd.Series(selector.scores_, index=Xtrain.columns).sort_values().tail().plot.barh()"
   ]
  },
  {
   "cell_type": "code",
   "execution_count": 0,
   "metadata": {
    "colab": {},
    "colab_type": "code",
    "id": "80D3Zb93ilYU"
   },
   "outputs": [],
   "source": [
    "# pergunta do rafael"
   ]
  },
  {
   "cell_type": "code",
   "execution_count": 0,
   "metadata": {
    "colab": {},
    "colab_type": "code",
    "id": "jLtdxirYdMKI"
   },
   "outputs": [],
   "source": [
    "class_weight\n",
    "(p - y)**2 = [0.1, 0.2, 0.5]\n",
    "y = [0,0,1]\n",
    "unweighted mse = 0.27\n",
    "\n",
    "peso = n_negativos / n_positivos  = 2/1 = 2\n",
    "\n",
    "weighted mse = [1*0.1, 1*0.2, 2*0.5] = 0.43\n"
   ]
  }
 ],
 "metadata": {
  "colab": {
   "collapsed_sections": [],
   "name": "live27-fsel-parte1 - https://bit.ly/mario-live27 ",
   "provenance": []
  },
  "kernelspec": {
   "display_name": "Python 3",
   "language": "python",
   "name": "python3"
  },
  "language_info": {
   "codemirror_mode": {
    "name": "ipython",
    "version": 3
   },
   "file_extension": ".py",
   "mimetype": "text/x-python",
   "name": "python",
   "nbconvert_exporter": "python",
   "pygments_lexer": "ipython3",
   "version": "3.7.6"
  }
 },
 "nbformat": 4,
 "nbformat_minor": 1
}

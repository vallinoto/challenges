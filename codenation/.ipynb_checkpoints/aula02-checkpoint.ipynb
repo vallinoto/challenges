{
 "cells": [
  {
   "cell_type": "markdown",
   "metadata": {
    "colab_type": "text",
    "id": "GFJ4EVNomx-9"
   },
   "source": [
    "## **Semana de Data Science**\n",
    "\n",
    "- Minerando Dados"
   ]
  },
  {
   "cell_type": "markdown",
   "metadata": {
    "colab_type": "text",
    "id": "m_bAzPFtNSd8"
   },
   "source": [
    "## Aula 01"
   ]
  },
  {
   "cell_type": "markdown",
   "metadata": {
    "colab_type": "text",
    "id": "4vhNe3CadOcI"
   },
   "source": [
    "### Conhecendo a base de dados"
   ]
  },
  {
   "cell_type": "markdown",
   "metadata": {
    "colab_type": "text",
    "id": "UIKcG9cuf73S"
   },
   "source": [
    "Monta o drive"
   ]
  },
  {
   "cell_type": "code",
   "execution_count": 0,
   "metadata": {
    "colab": {},
    "colab_type": "code",
    "id": "Pra_pLjfAW3d"
   },
   "outputs": [],
   "source": [
    "from google.colab import drive\n",
    "drive.mount('/content/drive')"
   ]
  },
  {
   "cell_type": "markdown",
   "metadata": {
    "colab_type": "text",
    "id": "LpI7iiKFVv85"
   },
   "source": [
    "Importando as bibliotecas básicas"
   ]
  },
  {
   "cell_type": "code",
   "execution_count": 0,
   "metadata": {
    "colab": {},
    "colab_type": "code",
    "id": "KrCFI6wjVy8r"
   },
   "outputs": [],
   "source": [
    "import pandas as pd\n",
    "import seaborn as sns\n",
    "import numpy as np\n",
    "import matplotlib.pyplot as plt"
   ]
  },
  {
   "cell_type": "markdown",
   "metadata": {
    "colab_type": "text",
    "id": "pN6MI_aOdLkK"
   },
   "source": [
    "Carregando a Base de Dados"
   ]
  },
  {
   "cell_type": "code",
   "execution_count": 0,
   "metadata": {
    "colab": {},
    "colab_type": "code",
    "id": "fH08VuIvDYqC"
   },
   "outputs": [],
   "source": [
    "# carrega o dataset de london\n",
    "from sklearn.datasets import load_boston\n",
    "boston = load_boston()"
   ]
  },
  {
   "cell_type": "code",
   "execution_count": 0,
   "metadata": {
    "colab": {},
    "colab_type": "code",
    "id": "vdncFGtm9EZe"
   },
   "outputs": [],
   "source": [
    "# descrição do dataset\n",
    "print (boston.DESCR)"
   ]
  },
  {
   "cell_type": "code",
   "execution_count": 0,
   "metadata": {
    "colab": {},
    "colab_type": "code",
    "id": "e1d1cfElD_aD"
   },
   "outputs": [],
   "source": [
    "# cria um dataframe pandas\n",
    "data = pd.DataFrame(boston.data, columns=boston.feature_names)"
   ]
  },
  {
   "cell_type": "code",
   "execution_count": 0,
   "metadata": {
    "colab": {},
    "colab_type": "code",
    "id": "j7nqnckSVqip"
   },
   "outputs": [],
   "source": [
    "# imprime as 5 primeiras linhas do dataset\n",
    "data.head()"
   ]
  },
  {
   "cell_type": "markdown",
   "metadata": {
    "colab_type": "text",
    "id": "QwLW2ovTV4lh"
   },
   "source": [
    "Conhecendo as colunas da base de dados"
   ]
  },
  {
   "cell_type": "markdown",
   "metadata": {
    "colab_type": "text",
    "id": "LwFL9EDhAWzQ"
   },
   "source": [
    "**`CRIM`**: Taxa de criminalidade per capita por cidade.\n",
    "\n",
    "**`ZN`**: Proporção de terrenos residenciais divididos por lotes com mais de 25.000 pés quadrados.\n",
    "\n",
    "**`INDUS`**: Essa é a proporção de hectares de negócios não comerciais por cidade.\n",
    "\n",
    "**`CHAS`**: variável fictícia Charles River (= 1 se o trecho limita o rio; 0 caso contrário)\n",
    "\n",
    "**`NOX`**: concentração de óxido nítrico (partes por 10 milhões)\n",
    "\n",
    "**`RM`**: Número médio de quartos entre as casas do bairro\n",
    "\n",
    "**`IDADE`**: proporção de unidades ocupadas pelos proprietários construídas antes de 1940\n",
    "\n",
    "**`DIS`**: distâncias ponderadas para cinco centros de emprego em Boston\n",
    "\n",
    "**`RAD`**: Índice de acessibilidade às rodovias radiais\n",
    "\n",
    "**`IMPOSTO`**: taxa do imposto sobre a propriedade de valor total por US $ 10.000\n",
    "\n",
    "**`B`**: 1000 (Bk - 0,63) ², onde Bk é a proporção de pessoas de descendência afro-americana por cidade\n",
    "\n",
    "**`PTRATIO`**: Bairros com maior proporção de alunos para professores (maior valor de 'PTRATIO')\n",
    "\n",
    "**`LSTAT`**: porcentagem de status mais baixo da população\n",
    "\n",
    "**`MEDV`**: valor médio de casas ocupadas pelos proprietários em US $ 1000"
   ]
  },
  {
   "cell_type": "markdown",
   "metadata": {
    "colab_type": "text",
    "id": "2DqDhU9Gdkme"
   },
   "source": [
    "Adicionando a coluna que será nossa variável alvo"
   ]
  },
  {
   "cell_type": "code",
   "execution_count": 0,
   "metadata": {
    "colab": {},
    "colab_type": "code",
    "id": "WaGqRi0vElWS"
   },
   "outputs": [],
   "source": [
    "# adiciona a variável MEDV\n",
    "data['MEDV'] = boston.target"
   ]
  },
  {
   "cell_type": "code",
   "execution_count": 0,
   "metadata": {
    "colab": {},
    "colab_type": "code",
    "id": "IyvcTctWCkfH"
   },
   "outputs": [],
   "source": [
    "# imprime as 5 primeiras linhas do dataframe\n",
    "data.head()"
   ]
  },
  {
   "cell_type": "code",
   "execution_count": 0,
   "metadata": {
    "colab": {},
    "colab_type": "code",
    "id": "YEf9q6l4uVmJ"
   },
   "outputs": [],
   "source": [
    "data.describe()"
   ]
  },
  {
   "cell_type": "markdown",
   "metadata": {
    "colab_type": "text",
    "id": "sZnu3djs_vjJ"
   },
   "source": [
    "### Análise e Exploração dos Dados\n",
    "\n"
   ]
  },
  {
   "cell_type": "markdown",
   "metadata": {
    "colab_type": "text",
    "id": "IPGHUiAem8LL"
   },
   "source": [
    "Nesta etapa nosso objetivo é conhecer os dados que estamos trabalhando.\n",
    "\n",
    "Podemos a ferramenta **Pandas Profiling** para essa etapa:"
   ]
  },
  {
   "cell_type": "code",
   "execution_count": 0,
   "metadata": {
    "colab": {},
    "colab_type": "code",
    "id": "Nu0SgG1CZhmV"
   },
   "outputs": [],
   "source": [
    "# Instalando o pandas profiling\n",
    "pip install https://github.com/pandas-profiling/pandas-profiling/archive/master.zip"
   ]
  },
  {
   "cell_type": "code",
   "execution_count": 0,
   "metadata": {
    "colab": {},
    "colab_type": "code",
    "id": "OGrLb3EXZwki"
   },
   "outputs": [],
   "source": [
    "# import o ProfileReport\n",
    "from pandas_profiling import ProfileReport"
   ]
  },
  {
   "cell_type": "code",
   "execution_count": 0,
   "metadata": {
    "colab": {},
    "colab_type": "code",
    "id": "8nebQr41Zwgx"
   },
   "outputs": [],
   "source": [
    "# executando o profile\n",
    "profile = ProfileReport(data, title='Relatório - Pandas Profiling', html={'style':{'full_width':True}})"
   ]
  },
  {
   "cell_type": "code",
   "execution_count": 0,
   "metadata": {
    "colab": {},
    "colab_type": "code",
    "id": "8AKVbZEOZwTH"
   },
   "outputs": [],
   "source": [
    "profile"
   ]
  },
  {
   "cell_type": "code",
   "execution_count": 0,
   "metadata": {
    "colab": {},
    "colab_type": "code",
    "id": "amne_skzYMdj"
   },
   "outputs": [],
   "source": [
    "# salvando o relatório no disco\n",
    "profile.to_file(output_file=\"Relatorio01.html\")"
   ]
  },
  {
   "cell_type": "markdown",
   "metadata": {
    "colab_type": "text",
    "id": "vouXoELXBMab"
   },
   "source": [
    "**Observações**\n",
    "\n",
    "*   *O coeficiente de correlação varia de `-1` a `1`. \n",
    "Se valor é próximo de 1, isto significa que existe uma forte correlação positiva entre as variáveis. Quando esse número é próximo de -1, as variáveis tem uma forte correlação negativa.*\n",
    "\n",
    "*   *A relatório que executamos acima nos mostra que a nossa variável alvo (**MEDV**) é fortemente correlacionada com as variáveis `LSTAT` e `RM`*\n",
    "\n",
    "*   *`RAD` e `TAX` são fortemente correlacionadas, podemos remove-las do nosso modelo para evitar a multi-colinearidade.*\n",
    "\n",
    "*   *O mesmo acontece com as colunas `DIS` and `AGE` a qual tem a correlação de -0.75*\n",
    "\n",
    "*   *A coluna `ZN` possui 73% de valores zero.*"
   ]
  },
  {
   "cell_type": "markdown",
   "metadata": {
    "colab_type": "text",
    "id": "cGQmHZgjKJ0u"
   },
   "source": [
    "## Aula 02"
   ]
  },
  {
   "cell_type": "markdown",
   "metadata": {
    "colab_type": "text",
    "id": "9sIexTyA49nM"
   },
   "source": [
    "Obtendo informações da base de dados manualmente"
   ]
  },
  {
   "cell_type": "code",
   "execution_count": 0,
   "metadata": {
    "colab": {},
    "colab_type": "code",
    "id": "hcR9OePVEzsy"
   },
   "outputs": [],
   "source": [
    "# Check missing values\n",
    "data.isnull().sum()"
   ]
  },
  {
   "cell_type": "code",
   "execution_count": 0,
   "metadata": {
    "colab": {},
    "colab_type": "code",
    "id": "kA2i3bPkFCYN"
   },
   "outputs": [],
   "source": [
    "# um pouco de estatística descritiva\n",
    "data.describe()"
   ]
  },
  {
   "cell_type": "markdown",
   "metadata": {
    "colab_type": "text",
    "id": "jXFWRI37e2d5"
   },
   "source": [
    "Analisando a Correlação das colunas da base de dados"
   ]
  },
  {
   "cell_type": "code",
   "execution_count": 0,
   "metadata": {
    "colab": {},
    "colab_type": "code",
    "id": "joFTc0VjAKXM"
   },
   "outputs": [],
   "source": [
    "# Calcule a correlação  \n",
    "correlacoes = data.corr()"
   ]
  },
  {
   "cell_type": "code",
   "execution_count": 0,
   "metadata": {
    "colab": {},
    "colab_type": "code",
    "id": "u_EglvnDAKIr"
   },
   "outputs": [],
   "source": [
    "# Usando o método heatmap do seaborn\n",
    "plt.figure(figsize=(16, 6))\n",
    "sns.heatmap(data=correlacoes, annot=True)"
   ]
  },
  {
   "cell_type": "markdown",
   "metadata": {
    "colab_type": "text",
    "id": "oQ7l5KrafBgO"
   },
   "source": [
    "Visualizando a relação entre algumas features e variável alvo"
   ]
  },
  {
   "cell_type": "code",
   "execution_count": 0,
   "metadata": {
    "colab": {},
    "colab_type": "code",
    "id": "gDSi9W1WMmcb"
   },
   "outputs": [],
   "source": [
    "# Importando o Plot.ly\n",
    "import plotly.express as px"
   ]
  },
  {
   "cell_type": "code",
   "execution_count": 0,
   "metadata": {
    "colab": {},
    "colab_type": "code",
    "id": "Aou5H2rgAKAB"
   },
   "outputs": [],
   "source": [
    "# RM vs MEDV (Número de quartos e valor médio do imóvel)\n",
    "fig = px.scatter(data, x=data.RM, y=data.MEDV)\n",
    "fig.show()"
   ]
  },
  {
   "cell_type": "code",
   "execution_count": 0,
   "metadata": {
    "colab": {},
    "colab_type": "code",
    "id": "XxgZbQ55AKEG"
   },
   "outputs": [],
   "source": [
    "# LSTAT vs MEDV (índice de status mais baixo da população e preço do imóvel)\n",
    "fig = px.scatter(data, x=data.LSTAT, y=data.MEDV)\n",
    "fig.show()"
   ]
  },
  {
   "cell_type": "code",
   "execution_count": 0,
   "metadata": {
    "colab": {},
    "colab_type": "code",
    "id": "zmgK9wl5g7Lp"
   },
   "outputs": [],
   "source": [
    "# PTRATIO vs MEDV (percentual de proporção de alunos para professores)\n",
    "fig = px.scatter(data, x=data.PTRATIO, y=data.MEDV)\n",
    "fig.show()"
   ]
  },
  {
   "cell_type": "markdown",
   "metadata": {
    "colab_type": "text",
    "id": "37p1_m7F0MER"
   },
   "source": [
    "#### Analisando Outliers"
   ]
  },
  {
   "cell_type": "code",
   "execution_count": 0,
   "metadata": {
    "colab": {},
    "colab_type": "code",
    "id": "HCZovi0qvc5c"
   },
   "outputs": [],
   "source": [
    "# estatística descritiva da variável RM\n",
    "data.RM.describe()"
   ]
  },
  {
   "cell_type": "code",
   "execution_count": 0,
   "metadata": {
    "colab": {},
    "colab_type": "code",
    "id": "eNO-ASRuDd62"
   },
   "outputs": [],
   "source": [
    "# visualizando a distribuição da variável RM\n",
    "import plotly.figure_factory as ff\n",
    "labels = ['Distribuição da variável RM (número de quartos)']\n",
    "fig = ff.create_distplot([data.RM], labels, bin_size=.2)\n",
    "fig.show()"
   ]
  },
  {
   "cell_type": "code",
   "execution_count": 0,
   "metadata": {
    "colab": {},
    "colab_type": "code",
    "id": "_BjYdDGGxkAs"
   },
   "outputs": [],
   "source": [
    "# Visualizando outliers na variável RM\n",
    "import plotly.express as px\n",
    "\n",
    "fig = px.box(data, y='RM')\n",
    "fig.update_layout( width=800,height=800)\n",
    "fig.show()"
   ]
  },
  {
   "cell_type": "markdown",
   "metadata": {
    "colab_type": "text",
    "id": "-vI2P2erjJ2b"
   },
   "source": [
    "Visualizando a distribuição da variável MEDV"
   ]
  },
  {
   "cell_type": "code",
   "execution_count": 0,
   "metadata": {
    "colab": {},
    "colab_type": "code",
    "id": "QPwgUI2JFJqg"
   },
   "outputs": [],
   "source": [
    "# estatística descritiva da variável MEDV\n",
    "data.MEDV.describe()"
   ]
  },
  {
   "cell_type": "code",
   "execution_count": 0,
   "metadata": {
    "colab": {},
    "colab_type": "code",
    "id": "QEBlHKgpFTwO"
   },
   "outputs": [],
   "source": [
    "# visualizando a distribuição da variável MEDV\n",
    "import plotly.figure_factory as ff\n",
    "labels = ['Distribuição da variável MEDV (preço médio do imóvel)']\n",
    "fig = ff.create_distplot([data.MEDV], labels, bin_size=.2)\n",
    "fig.show()"
   ]
  },
  {
   "cell_type": "markdown",
   "metadata": {
    "colab_type": "text",
    "id": "eUXOZ6xXvfAC"
   },
   "source": [
    "Analisando a simetria do dado"
   ]
  },
  {
   "cell_type": "code",
   "execution_count": 0,
   "metadata": {
    "colab": {},
    "colab_type": "code",
    "id": "ovKltAzUGR9y"
   },
   "outputs": [],
   "source": [
    "# carrega o método stats da scipy\n",
    "from scipy import stats"
   ]
  },
  {
   "cell_type": "code",
   "execution_count": 0,
   "metadata": {
    "colab": {},
    "colab_type": "code",
    "id": "Dl4dTtepGYic"
   },
   "outputs": [],
   "source": [
    "# imprime o coeficiente de pearson\n",
    "stats.skew(data.MEDV)"
   ]
  },
  {
   "cell_type": "markdown",
   "metadata": {
    "colab_type": "text",
    "id": "5MwVWy3Ps8Vm"
   },
   "source": [
    "Coeficiente de Pearson\n",
    "*   Valor entre -1 e 1 - distribuição simétrica.\n",
    "*   Valor maior que 1 - distribuição assimétrica positiva.\n",
    "*   Valor maior que -1 - distribuição assimétrica negativa."
   ]
  },
  {
   "cell_type": "code",
   "execution_count": 0,
   "metadata": {
    "colab": {},
    "colab_type": "code",
    "id": "6Q3yP1pjS4h8"
   },
   "outputs": [],
   "source": [
    "# Histogram da variável MEDV (variável alvo)\n",
    "fig = px.histogram(data, x=\"MEDV\", nbins=50, opacity=0.50)\n",
    "fig.show()"
   ]
  },
  {
   "cell_type": "code",
   "execution_count": 0,
   "metadata": {
    "colab": {},
    "colab_type": "code",
    "id": "pkXxZVd-FmDQ"
   },
   "outputs": [],
   "source": [
    "# Visualizando outliers na variável MEDV\n",
    "import plotly.express as px\n",
    "\n",
    "fig = px.box(data, y='MEDV')\n",
    "fig.update_layout( width=800,height=800)\n",
    "fig.show()"
   ]
  },
  {
   "cell_type": "code",
   "execution_count": 0,
   "metadata": {
    "colab": {},
    "colab_type": "code",
    "id": "JJT2O8sYI_yo"
   },
   "outputs": [],
   "source": [
    "# estatistica descritiva das variáveis\n",
    "data[['PTRATIO','LSTAT','RM']].describe()"
   ]
  },
  {
   "cell_type": "code",
   "execution_count": 0,
   "metadata": {
    "colab": {},
    "colab_type": "code",
    "id": "9JZQO87lFlyu"
   },
   "outputs": [],
   "source": [
    "# imprimindo os 16 maiores valores de MEDV\n",
    "data[['RM','LSTAT','PTRATIO','MEDV']].nlargest(16, 'MEDV')"
   ]
  },
  {
   "cell_type": "code",
   "execution_count": 0,
   "metadata": {
    "colab": {},
    "colab_type": "code",
    "id": "caKPkl_SFil0"
   },
   "outputs": [],
   "source": [
    "# filtra os top 16 maiores registro da coluna MEDV\n",
    "top16 = data.nlargest(16, 'MEDV').index"
   ]
  },
  {
   "cell_type": "code",
   "execution_count": 0,
   "metadata": {
    "colab": {},
    "colab_type": "code",
    "id": "cicsUFf4OELZ"
   },
   "outputs": [],
   "source": [
    "# remove os valores listados em top16\n",
    "data.drop(top16, inplace=True)"
   ]
  },
  {
   "cell_type": "code",
   "execution_count": 0,
   "metadata": {
    "colab": {},
    "colab_type": "code",
    "id": "eH_GiyiBMPbS"
   },
   "outputs": [],
   "source": [
    "# visualizando a distribuição da variável MEDV\n",
    "import plotly.figure_factory as ff\n",
    "labels = ['Distribuição da variável MEDV (número de quartos)']\n",
    "fig = ff.create_distplot([data.MEDV], labels, bin_size=.2)\n",
    "fig.show()"
   ]
  },
  {
   "cell_type": "code",
   "execution_count": 0,
   "metadata": {
    "colab": {},
    "colab_type": "code",
    "id": "4p57a357MPYh"
   },
   "outputs": [],
   "source": [
    "# Histogram da variável MEDV (variável alvo)\n",
    "fig = px.histogram(data, x=\"MEDV\", nbins=50, opacity=0.50)\n",
    "fig.show()"
   ]
  },
  {
   "cell_type": "code",
   "execution_count": 0,
   "metadata": {
    "colab": {},
    "colab_type": "code",
    "id": "aXuyA0dzMgd2"
   },
   "outputs": [],
   "source": [
    "# imprime o coeficiente de pearson\n",
    "stats.skew(data.MEDV)"
   ]
  },
  {
   "cell_type": "markdown",
   "metadata": {
    "colab_type": "text",
    "id": "X2mMG-H_xfCU"
   },
   "source": [
    "**Definindo um Baseline**\n",
    "\n",
    "- `Uma baseline é importante para ter marcos no projeto`.\n",
    "- `Permite uma explicação fácil para todos os envolvidos`.\n",
    "- `É algo que sempre tentaremos ganhar na medida do possível`."
   ]
  },
  {
   "cell_type": "code",
   "execution_count": 0,
   "metadata": {
    "colab": {},
    "colab_type": "code",
    "id": "q-k-jC68Tmra"
   },
   "outputs": [],
   "source": [
    "# converte os dados\n",
    "data.RM = data.RM.astype(int)"
   ]
  },
  {
   "cell_type": "code",
   "execution_count": 0,
   "metadata": {
    "colab": {},
    "colab_type": "code",
    "id": "cA9VCNRnUOPi"
   },
   "outputs": [],
   "source": [
    "data.info()"
   ]
  },
  {
   "cell_type": "code",
   "execution_count": 0,
   "metadata": {
    "colab": {},
    "colab_type": "code",
    "id": "K_-mp-6WtUee"
   },
   "outputs": [],
   "source": [
    "# estatística descritiva da coluna numero de quartos\n",
    "data.RM.describe()"
   ]
  },
  {
   "cell_type": "code",
   "execution_count": 0,
   "metadata": {
    "colab": {},
    "colab_type": "code",
    "id": "HIknobGdtUQR"
   },
   "outputs": [],
   "source": [
    "# definindo a regra para categorizar os dados\n",
    "categorias = []"
   ]
  },
  {
   "cell_type": "code",
   "execution_count": 0,
   "metadata": {
    "colab": {},
    "colab_type": "code",
    "id": "faL-8m1onPP2"
   },
   "outputs": [],
   "source": [
    "# alimenta a lista categorias\n",
    "for i in data.RM.iteritems():\n",
    "  valor = (i[1])\n",
    "  if valor <= 4:\n",
    "    categorias.append('Pequeno')\n",
    "  elif valor < 7:\n",
    "    categorias.append('Medio')\n",
    "  else:\n",
    "    categorias.append('Grande')"
   ]
  },
  {
   "cell_type": "code",
   "execution_count": 0,
   "metadata": {
    "colab": {},
    "colab_type": "code",
    "id": "-nEk0wXeNFWE"
   },
   "outputs": [],
   "source": [
    "# cria a coluna categorias\n",
    "data['categorias'] = categorias"
   ]
  },
  {
   "cell_type": "code",
   "execution_count": 0,
   "metadata": {
    "colab": {},
    "colab_type": "code",
    "id": "i-iVO76sR-am"
   },
   "outputs": [],
   "source": [
    "# imprime a contagem de categorias\n",
    "data.categorias.value_counts()"
   ]
  },
  {
   "cell_type": "code",
   "execution_count": 0,
   "metadata": {
    "colab": {},
    "colab_type": "code",
    "id": "Gxa6OrD8Ht-0"
   },
   "outputs": [],
   "source": [
    "# agrupa as categorias e calcula as médias\n",
    "medias_categorias = data.groupby(by='categorias')['MEDV'].mean()"
   ]
  },
  {
   "cell_type": "code",
   "execution_count": 0,
   "metadata": {
    "colab": {},
    "colab_type": "code",
    "id": "zYMhxnzDIM2X"
   },
   "outputs": [],
   "source": [
    "# visualizando a variável medias_categorias\n",
    "medias_categorias"
   ]
  },
  {
   "cell_type": "code",
   "execution_count": 0,
   "metadata": {
    "colab": {},
    "colab_type": "code",
    "id": "wJHkQXozHcYN"
   },
   "outputs": [],
   "source": [
    "# criando o dicionario com chaves medio, grande e pequeno e seus valores\n",
    "dic_baseline = {'Grande': medias_categorias[0], 'Medio': medias_categorias[1], 'Pequeno': medias_categorias[2]}"
   ]
  },
  {
   "cell_type": "code",
   "execution_count": 0,
   "metadata": {
    "colab": {},
    "colab_type": "code",
    "id": "AMrYkM_T7eqS"
   },
   "outputs": [],
   "source": [
    "# imprime dicionario\n",
    "dic_baseline"
   ]
  },
  {
   "cell_type": "code",
   "execution_count": 0,
   "metadata": {
    "colab": {},
    "colab_type": "code",
    "id": "7lfDPAmL8kjX"
   },
   "outputs": [],
   "source": [
    "# cria a função retorna baseline\n",
    "def retorna_baseline(num_quartos):\n",
    "  if num_quartos <= 4:\n",
    "    return dic_baseline.get('Pequeno')\n",
    "  elif num_quartos < 7:\n",
    "    return dic_baseline.get('Medio')\n",
    "  else:\n",
    "    return dic_baseline.get('Grande')"
   ]
  },
  {
   "cell_type": "code",
   "execution_count": 0,
   "metadata": {
    "colab": {},
    "colab_type": "code",
    "id": "um5I8oQ2Arhe"
   },
   "outputs": [],
   "source": [
    "# chama a função retorna baseline\n",
    "retorna_baseline(3)"
   ]
  },
  {
   "cell_type": "code",
   "execution_count": 0,
   "metadata": {
    "colab": {},
    "colab_type": "code",
    "id": "785EhcLuCoqw"
   },
   "outputs": [],
   "source": [
    "for i in data.RM.iteritems():\n",
    "  n_quartos = i[1]\n",
    "  print('Número de quartos é: {} , Valor médio: {}'.format(n_quartos,retorna_baseline(n_quartos)))"
   ]
  },
  {
   "cell_type": "code",
   "execution_count": 0,
   "metadata": {
    "colab": {},
    "colab_type": "code",
    "id": "7Is3KDjcXzBG"
   },
   "outputs": [],
   "source": [
    "# imprime as 5 primeiras linhas do dataframe\n",
    "data.head()"
   ]
  }
 ],
 "metadata": {
  "anaconda-cloud": {},
  "colab": {
   "collapsed_sections": [
    "m_bAzPFtNSd8",
    "4vhNe3CadOcI",
    "sZnu3djs_vjJ"
   ],
   "name": "aula02.ipynb",
   "provenance": []
  },
  "kernelspec": {
   "display_name": "Python 3",
   "language": "python",
   "name": "python3"
  },
  "language_info": {
   "codemirror_mode": {
    "name": "ipython",
    "version": 3
   },
   "file_extension": ".py",
   "mimetype": "text/x-python",
   "name": "python",
   "nbconvert_exporter": "python",
   "pygments_lexer": "ipython3",
   "version": "3.7.6"
  }
 },
 "nbformat": 4,
 "nbformat_minor": 1
}
